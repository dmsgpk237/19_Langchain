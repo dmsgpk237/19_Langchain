{
 "cells": [
  {
   "cell_type": "markdown",
   "metadata": {},
   "source": [
    "## LCEL(LangChain Expression Language)\n",
    "- 사용자의 입력 -> 프롬프트 템플릿 -> LLM 모델 전달\n",
    "- 각 단계를 차례로 엮어서 하나의 파이프라인으로 만들어주는 것\n",
    "\n",
    "chain = prompt | model | output_parser"
   ]
  },
  {
   "cell_type": "markdown",
   "metadata": {},
   "source": [
    "### 프롬프트 템플릿\n",
    "- 사용자의 입력 변수를 받아서 완전한 프롬프트 문자열을 만드는데 사용하는 템플릿"
   ]
  },
  {
   "cell_type": "code",
   "execution_count": 2,
   "metadata": {},
   "outputs": [],
   "source": [
    "from langchain_core.prompts import PromptTemplate\n",
    "\n",
    "template = \"{lecture}에 대해 설명해주세요\"\n",
    "\n",
    "prompt_template = PromptTemplate(template=template, input_variables=[\"lecture\"])"
   ]
  },
  {
   "cell_type": "code",
   "execution_count": 3,
   "metadata": {},
   "outputs": [
    {
     "name": "stdout",
     "output_type": "stream",
     "text": [
      "spring에 대해 설명해주세요\n"
     ]
    }
   ],
   "source": [
    "lecture = input(\"궁금한 과목을 입력해주세요\")\n",
    "\n",
    "prompt = prompt_template.format(lecture=lecture)\n",
    "\n",
    "print(prompt)"
   ]
  },
  {
   "cell_type": "code",
   "execution_count": 5,
   "metadata": {},
   "outputs": [],
   "source": [
    "from langchain_openai import ChatOpenAI\n",
    "\n",
    "model = ChatOpenAI(\n",
    "    model=\"gpt-3.5-turbo\",\n",
    "    temperature=0.1\n",
    ")"
   ]
  },
  {
   "cell_type": "code",
   "execution_count": 6,
   "metadata": {},
   "outputs": [],
   "source": [
    "chain = prompt_template | model"
   ]
  },
  {
   "cell_type": "code",
   "execution_count": 7,
   "metadata": {},
   "outputs": [],
   "source": [
    "# Prompt Template의 변수에 작성할 때는 Dictionary 형태로 Key-Value 쌍으로 입력을 줄 수 있다.\n",
    "input = {\"lecture\":\"랭체인\"}"
   ]
  },
  {
   "cell_type": "code",
   "execution_count": 14,
   "metadata": {},
   "outputs": [
    {
     "data": {
      "text/plain": [
       "'랭체인은 블록체인 기술을 활용하여 게임 산업에 적용된 분산형 게임 개발 플랫폼입니다. 랭체인은 게임 개발자들이 게임을 개발하고 운영하는 데 필요한 다양한 기능을 제공하며, 게임 사용자들은 블록체인을 통해 게임 내 자산을 소유하고 거래할 수 있습니다.\\n\\n랭체인은 게임 내 아이템의 소유권을 블록체인에 기록하여 안전하고 투명한 거래를 가능하게 합니다. 또한 랭체인은 게임 개발자들이 게임을 개발하고 운영하는 데 필요한 다양한 도구와 서비스를 제공하여 게임의 품질을 향상시키고 사용자 경험을 개선할 수 있습니다.\\n\\n랭체인은 블록체인 기술을 통해 게임 산업을 혁신하고 게임 사용자들에게 더 나은 경험을 제공하는 것을 목표로 하고 있습니다. 현재 다양한 게임이 랭체인을 통해 개발되고 운영되고 있으며, 랭체인은 게임 산업의 미래를 이끌어갈 수 있는 기술로 평가받고 있습니다.'"
      ]
     },
     "execution_count": 14,
     "metadata": {},
     "output_type": "execute_result"
    }
   ],
   "source": [
    "chain.invoke(input)"
   ]
  },
  {
   "cell_type": "markdown",
   "metadata": {},
   "source": [
    "### 출력 형식 지정(Output Parser)\n",
    "- LLM 모델이 응답해주는 내용에 대한 형식을 지정해주는 것\n"
   ]
  },
  {
   "cell_type": "code",
   "execution_count": 10,
   "metadata": {},
   "outputs": [],
   "source": [
    "from langchain_core.output_parsers import StrOutputParser\n",
    "\n",
    "output_parser = StrOutputParser()"
   ]
  },
  {
   "cell_type": "code",
   "execution_count": 11,
   "metadata": {},
   "outputs": [],
   "source": [
    "chain = prompt_template | model | output_parser"
   ]
  },
  {
   "cell_type": "code",
   "execution_count": 15,
   "metadata": {},
   "outputs": [
    {
     "data": {
      "text/plain": [
       "'랭체인은 블록체인 기술을 기반으로 한 분산형 랭킹 시스템입니다. 랭크체인은 사용자들이 서로 평가하고 순위를 매기는 시스템으로, 사용자들이 다양한 콘텐츠나 제품에 대한 평가를 통해 해당 콘텐츠나 제품의 순위를 결정합니다.\\n\\n랭크체인은 중앙 집중식 시스템이 아닌 분산형 시스템으로 운영되기 때문에 조작이 어렵고 신뢰성이 높습니다. 사용자들은 블록체인 기술을 통해 안전하게 평가를 제출하고 다른 사용자들의 평가를 확인할 수 있습니다.\\n\\n랭크체인은 다양한 분야에서 활용될 수 있으며, 예를 들어 온라인 쇼핑몰에서 제품에 대한 랭킹을 매기거나 음악이나 영화 등의 콘텐츠에 대한 순위를 결정하는 데 사용될 수 있습니다. 이를 통해 사용자들은 다양한 제품이나 콘텐츠를 비교하고 더 나은 선택을 할 수 있게 됩니다.'"
      ]
     },
     "execution_count": 15,
     "metadata": {},
     "output_type": "execute_result"
    }
   ],
   "source": [
    "# AI 메시지에서 content에 해당하는 내용만 가지고 와서 보여줌\n",
    "chain.invoke(input)"
   ]
  },
  {
   "cell_type": "code",
   "execution_count": 16,
   "metadata": {},
   "outputs": [],
   "source": [
    "### 영어 회화를 알려주는 선생님 챗봇\n",
    "### 어떤 상황을 주면 영어회화 + 한글 해석\n",
    "# [] 강조\n",
    "\n",
    "template = \"\"\"\n",
    "당신은 영어를 가르치는 10년차 선생님입니다. 주어진 상황에 맞는 영어 회화를 작성해주세요.\n",
    "양식은 [FORMAT]을 참고하여 작성해주세요.\n",
    "\n",
    "#상황:\n",
    "{question}\n",
    "\n",
    "#FORMAT:\n",
    "- 영어 회화:\n",
    "- 한글 해석:\n",
    "\"\"\"\n",
    "\n",
    "# 프롬프트 템플릿 작성\n",
    "prompt = PromptTemplate.from_template(template)\n",
    "\n",
    "# 모델 객체 작성\n",
    "model = ChatOpenAI(model_name=\"gpt-4o\")\n",
    "\n",
    "# 문자열 출력 파서 객체 생성\n",
    "output_parser = StrOutputParser()"
   ]
  },
  {
   "cell_type": "code",
   "execution_count": 19,
   "metadata": {},
   "outputs": [],
   "source": [
    "# Chain 구성\n",
    "\n",
    "chain = prompt | model | output_parser"
   ]
  },
  {
   "cell_type": "code",
   "execution_count": 20,
   "metadata": {},
   "outputs": [
    {
     "name": "stdout",
     "output_type": "stream",
     "text": [
      "- 영어 회화:\n",
      "  - Server: Hello! Welcome to our restaurant. How many people are in your party?\n",
      "  - Customer: Hi! It's just me today.\n",
      "  - Server: Great! Follow me, please. Here is your table. Can I get you started with something to drink?\n",
      "  - Customer: Yes, I’d like a glass of water and an iced tea, please.\n",
      "  - Server: Sure! Here is the menu. Do you need a few minutes to decide on your order?\n",
      "  - Customer: I think I’m ready to order. I’d like the grilled salmon with a side of vegetables.\n",
      "  - Server: Excellent choice! Would you like any appetizers before that?\n",
      "  - Customer: No, thank you. Just the main dish is fine.\n",
      "  - Server: Alright, your order will be ready shortly. Enjoy your meal!\n",
      "\n",
      "- 한글 해석:\n",
      "  - 종업원: 안녕하세요! 저희 식당에 오신 것을 환영합니다. 몇 분이신가요?\n",
      "  - 손님: 안녕하세요! 오늘은 저 혼자입니다.\n",
      "  - 종업원: 알겠습니다! 이쪽으로 오세요. 여기가 당신의 자리입니다. 음료는 어떤 걸로 시작할까요?\n",
      "  - 손님: 네, 물 한 잔과 아이스티 주세요.\n",
      "  - 종업원: 알겠습니다! 여기 메뉴입니다. 주문하실 준비가 되셨나요, 아니면 시간이 좀 더 필요하신가요?\n",
      "  - 손님: 주문할 준비가 됐어요. 구운 연어와 야채 사이드를 주세요.\n",
      "  - 종업원: 훌륭한 선택입니다! 그 전에 애피타이저는 필요 없으신가요?\n",
      "  - 손님: 아니요, 괜찮습니다. 메인 요리만 괜찮아요.\n",
      "  - 종업원: 알겠습니다, 주문하신 음식은 곧 준비될 겁니다. 맛있게 드세요!\n"
     ]
    }
   ],
   "source": [
    "# Chain 실행\n",
    "\n",
    "print(chain.invoke({\"question\":\"저는 식당에 가서 음식을 주문하고 싶어요.\"}))"
   ]
  },
  {
   "cell_type": "markdown",
   "metadata": {},
   "source": [
    "여러가지 재료를 변수로 입력 받고, 재료로 요리할 수 있는 요리의\n",
    "<br>요리명, 재료, 조리법을 포맷으로 받는 템플릿을 작성하고\n",
    "<br>문자열 출력 파서로 응답 받을 수 있게 체인을 구성하세요"
   ]
  },
  {
   "cell_type": "code",
   "execution_count": 27,
   "metadata": {},
   "outputs": [
    {
     "name": "stdout",
     "output_type": "stream",
     "text": [
      "- 요리명: 새우 토마토 파스타\n",
      "\n",
      "- 재료: \n",
      "  - 토마토 2개\n",
      "  - 올리브오일 2큰술\n",
      "  - 새우 200g\n",
      "  - 파스타 면 200g\n",
      "  - 마늘 2쪽\n",
      "  - 소금 및 후추 약간\n",
      "  - 바질 또는 파슬리 (선택사항)\n",
      "\n",
      "- 조리법:\n",
      "  1. 큰 냄비에 물을 끓인 후 소금을 약간 넣고 파스타 면을 원하는 정도로 삶아줍니다. 면이 익으면 체에 걸러 물기를 빼줍니다.\n",
      "  2. 토마토는 작게 깍둑썰기하고, 마늘은 얇게 슬라이스합니다.\n",
      "  3. 팬에 올리브오일을 두르고 중불에서 마늘을 볶아 향을 냅니다.\n",
      "  4. 마늘이 살짝 노릇해지면 새우를 넣고 핑크색이 될 때까지 볶습니다.\n",
      "  5. 토마토를 팬에 추가하고 소금과 후추로 간을 맞춘 뒤, 토마토가 부드러워질 때까지 약 5분간 끓입니다.\n",
      "  6. 삶아놓은 파스타 면을 팬에 넣고 재료들이 잘 섞이도록 저어줍니다.\n",
      "  7. 접시에 파스타를 담고 바질 또는 파슬리로 장식하여 완성합니다.\n"
     ]
    }
   ],
   "source": [
    "template = \"\"\"\n",
    "당신은 요리사입니다. 입력한 요리 재료를 활용해 할 수 있는 요리의 요리명, 재료, 조리법을\n",
    "포맷을 기반으로 작성하세요.\n",
    "\n",
    "#상황:\n",
    "{question}\n",
    "\n",
    "#FORMAT:\n",
    "- 요리명:\n",
    "- 재료:\n",
    "- 조리법:\n",
    "\"\"\"\n",
    "\n",
    "# 프롬프트 템플릿 작성\n",
    "prompt = PromptTemplate.from_template(template)\n",
    "\n",
    "# 모델 객체 작성\n",
    "model = ChatOpenAI(model_name=\"gpt-4o\")\n",
    "\n",
    "# 문자열 출력 파서 객체 생성\n",
    "output_parser = StrOutputParser()\n",
    "\n",
    "# Chain 구성\n",
    "chain = prompt | model | output_parser\n",
    "\n",
    "# Chain 실행\n",
    "print(chain.invoke({\"question\":\"토마토, 올리브오일, 새우\"}))"
   ]
  },
  {
   "cell_type": "code",
   "execution_count": null,
   "metadata": {},
   "outputs": [],
   "source": []
  }
 ],
 "metadata": {
  "kernelspec": {
   "display_name": "langchain_env",
   "language": "python",
   "name": "python3"
  },
  "language_info": {
   "codemirror_mode": {
    "name": "ipython",
    "version": 3
   },
   "file_extension": ".py",
   "mimetype": "text/x-python",
   "name": "python",
   "nbconvert_exporter": "python",
   "pygments_lexer": "ipython3",
   "version": "3.11.10"
  }
 },
 "nbformat": 4,
 "nbformat_minor": 2
}
