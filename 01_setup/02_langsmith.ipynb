{
 "cells": [
  {
   "cell_type": "code",
   "execution_count": 3,
   "metadata": {},
   "outputs": [
    {
     "data": {
      "text/plain": [
       "True"
      ]
     },
     "execution_count": 3,
     "metadata": {},
     "output_type": "execute_result"
    }
   ],
   "source": [
    "from dotenv import load_dotenv\n",
    "\n",
    "load_dotenv(dotenv_path=\"../.env\")"
   ]
  },
  {
   "cell_type": "markdown",
   "metadata": {},
   "source": [
    "### LangSmith\n",
    "\n",
    "* LangChain 어플리케이션의 개발, 테스트, 모니터링 및 배포를 위한 플랫폼\n",
    "* LLM 기반 어플리케이션의 전체 생명주기를 관리하는데 도움을 받을 수 있다.\n",
    "\n",
    "1. 디버깅 : 복잡한 LLM 체인과 에이전트의 실행을 추적하고 시각화\n",
    "2. 테스팅 : 다양한 입력에 대한 모델의 성능을 평가하고 회귀를 방지\n",
    "3. 모니터링 : 프로덕션 환경에서 어플리케이션의 성능과 사용량을 추적"
   ]
  },
  {
   "cell_type": "code",
   "execution_count": 1,
   "metadata": {},
   "outputs": [
    {
     "name": "stdout",
     "output_type": "stream",
     "text": [
      "[답변] : content='포켓몬 중에서 가장 강력한 포켓몬은 상황에 따라 다를 수 있지만, 전설의 포켓몬 중에서는 아르세우스, 괴물쥬, 레지기가스 등이 강력한 포켓몬으로 알려져 있습니다. 또한 전설의 포켓몬이 아니더라도 메타몽, 레지스틸, 레지락 등의 포켓몬들도 강력한 전투 능력을 가지고 있습니다. 하지만 포켓몬의 강력함은 훈련과 전투 전략, 유전적 특성 등 여러 가지 요소에 의해 결정되므로 단일한 답변을 제시하기는 어렵습니다.' additional_kwargs={'refusal': None} response_metadata={'token_usage': {'completion_tokens': 240, 'prompt_tokens': 44, 'total_tokens': 284, 'completion_tokens_details': {'audio_tokens': None, 'reasoning_tokens': 0}, 'prompt_tokens_details': {'audio_tokens': None, 'cached_tokens': 0}}, 'model_name': 'gpt-3.5-turbo-0125', 'system_fingerprint': None, 'finish_reason': 'stop', 'logprobs': None} id='run-01c306e6-cf3d-4c07-bd7e-5684784c3d2b-0' usage_metadata={'input_tokens': 44, 'output_tokens': 240, 'total_tokens': 284, 'input_token_details': {'cache_read': 0}, 'output_token_details': {'reasoning': 0}}\n"
     ]
    }
   ],
   "source": [
    "from langchain_openai import ChatOpenAI\n",
    "\n",
    "# 모델 객체 생성\n",
    "llm = ChatOpenAI(\n",
    "    temperature=0.1,\n",
    "    tiktoken_model_name=\"gpt-4o-mini\"\n",
    ")\n",
    "\n",
    "# 질문생성\n",
    "question = \"포켓몬 중 가장 강력한 포켓몬은 어떤 포켓몬인가요?\"\n",
    "\n",
    "print(f\"[답변] : {llm.invoke(question)}\")"
   ]
  }
 ],
 "metadata": {
  "kernelspec": {
   "display_name": "langchain_env",
   "language": "python",
   "name": "python3"
  },
  "language_info": {
   "codemirror_mode": {
    "name": "ipython",
    "version": 3
   },
   "file_extension": ".py",
   "mimetype": "text/x-python",
   "name": "python",
   "nbconvert_exporter": "python",
   "pygments_lexer": "ipython3",
   "version": "3.11.10"
  }
 },
 "nbformat": 4,
 "nbformat_minor": 2
}
